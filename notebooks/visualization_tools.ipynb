{
 "cells": [
  {
   "cell_type": "code",
   "execution_count": null,
   "metadata": {},
   "outputs": [],
   "source": [
    "# Visualizing Calibration Results\n",
    "import matplotlib.pyplot as plt\n",
    "from xrobot_calibration.common.math_utils import compute_transformation_matrix\n",
    "\n",
    "# Example transformation matrix\n",
    "transformation_matrix = compute_transformation_matrix(data={\"x\": 1, \"y\": 2, \"theta\": 0.5})\n",
    "\n",
    "# Plotting the transformation matrix\n",
    "plt.imshow(transformation_matrix, cmap=\"viridis\")\n",
    "plt.title(\"Transformation Matrix Visualization\")\n",
    "plt.colorbar()\n",
    "plt.show()"
   ]
  }
 ],
 "metadata": {
  "language_info": {
   "name": "python"
  }
 },
 "nbformat": 4,
 "nbformat_minor": 2
}
