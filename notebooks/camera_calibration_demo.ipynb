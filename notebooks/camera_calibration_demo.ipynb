{
 "cells": [
  {
   "cell_type": "code",
   "execution_count": null,
   "metadata": {},
   "outputs": [],
   "source": [
    "# Camera Calibration Tutorial\n",
    "\n",
    "from xrobot_calibration import calibrate_camera\n",
    "\n",
    "# Sample camera data\n",
    "camera_data = {\n",
    "    \"intrinsic_matrix\": [[600, 0, 320], [0, 600, 240], [0, 0, 1]],\n",
    "    \"distortion_coeffs\": [0.1, -0.05, 0.001, 0.002],\n",
    "}\n",
    "\n",
    "# Perform calibration\n",
    "calibration_results = calibrate_camera(camera_data)\n",
    "\n",
    "# Display results\n",
    "print(\"Camera Calibration Results:\", calibration_results)"
   ]
  }
 ],
 "metadata": {
  "language_info": {
   "name": "python"
  }
 },
 "nbformat": 4,
 "nbformat_minor": 2
}
