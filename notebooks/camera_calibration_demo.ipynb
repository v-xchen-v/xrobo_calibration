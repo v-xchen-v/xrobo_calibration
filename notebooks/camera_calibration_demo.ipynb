{
 "cells": [
  {
   "cell_type": "code",
   "execution_count": 1,
   "metadata": {},
   "outputs": [
    {
     "ename": "ModuleNotFoundError",
     "evalue": "No module named 'xrobot_calibration'",
     "output_type": "error",
     "traceback": [
      "\u001b[0;31m---------------------------------------------------------------------------\u001b[0m",
      "\u001b[0;31mModuleNotFoundError\u001b[0m                       Traceback (most recent call last)",
      "Cell \u001b[0;32mIn[1], line 3\u001b[0m\n\u001b[1;32m      1\u001b[0m \u001b[38;5;66;03m# Camera Calibration Tutorial\u001b[39;00m\n\u001b[0;32m----> 3\u001b[0m \u001b[38;5;28;01mfrom\u001b[39;00m \u001b[38;5;21;01mxrobot_calibration\u001b[39;00m \u001b[38;5;28;01mimport\u001b[39;00m calibrate_camera\n\u001b[1;32m      5\u001b[0m \u001b[38;5;66;03m# Sample camera data\u001b[39;00m\n\u001b[1;32m      6\u001b[0m camera_data \u001b[38;5;241m=\u001b[39m {\n\u001b[1;32m      7\u001b[0m     \u001b[38;5;124m\"\u001b[39m\u001b[38;5;124mintrinsic_matrix\u001b[39m\u001b[38;5;124m\"\u001b[39m: [[\u001b[38;5;241m600\u001b[39m, \u001b[38;5;241m0\u001b[39m, \u001b[38;5;241m320\u001b[39m], [\u001b[38;5;241m0\u001b[39m, \u001b[38;5;241m600\u001b[39m, \u001b[38;5;241m240\u001b[39m], [\u001b[38;5;241m0\u001b[39m, \u001b[38;5;241m0\u001b[39m, \u001b[38;5;241m1\u001b[39m]],\n\u001b[1;32m      8\u001b[0m     \u001b[38;5;124m\"\u001b[39m\u001b[38;5;124mdistortion_coeffs\u001b[39m\u001b[38;5;124m\"\u001b[39m: [\u001b[38;5;241m0.1\u001b[39m, \u001b[38;5;241m-\u001b[39m\u001b[38;5;241m0.05\u001b[39m, \u001b[38;5;241m0.001\u001b[39m, \u001b[38;5;241m0.002\u001b[39m],\n\u001b[1;32m      9\u001b[0m }\n",
      "\u001b[0;31mModuleNotFoundError\u001b[0m: No module named 'xrobot_calibration'"
     ]
    }
   ],
   "source": [
    "# Camera Calibration Tutorial\n",
    "\n",
    "from xrobot_calibration import calibrate_camera\n",
    "\n",
    "# Sample camera data\n",
    "camera_data = {\n",
    "    \"intrinsic_matrix\": [[600, 0, 320], [0, 600, 240], [0, 0, 1]],\n",
    "    \"distortion_coeffs\": [0.1, -0.05, 0.001, 0.002],\n",
    "}\n",
    "\n",
    "# Perform calibration\n",
    "calibration_results = calibrate_camera(camera_data)\n",
    "\n",
    "# Display results\n",
    "print(\"Camera Calibration Results:\", calibration_results)"
   ]
  }
 ],
 "metadata": {
  "kernelspec": {
   "display_name": ".venv",
   "language": "python",
   "name": "python3"
  },
  "language_info": {
   "codemirror_mode": {
    "name": "ipython",
    "version": 3
   },
   "file_extension": ".py",
   "mimetype": "text/x-python",
   "name": "python",
   "nbconvert_exporter": "python",
   "pygments_lexer": "ipython3",
   "version": "3.8.10"
  }
 },
 "nbformat": 4,
 "nbformat_minor": 2
}
