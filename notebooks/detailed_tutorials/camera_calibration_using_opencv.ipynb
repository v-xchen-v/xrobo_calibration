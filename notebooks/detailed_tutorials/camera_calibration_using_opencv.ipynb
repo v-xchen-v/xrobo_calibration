{
 "cells": [
  {
   "cell_type": "markdown",
   "metadata": {},
   "source": [
    "The process of estimating the parameters of a camera is called camera calibration.\n",
    "\n",
    "This means we have all information (parameters or coeffients) about the camera required to determine an accurate \n",
    "relationship between a 3D point in the real world and its corresponding 2D projection (pixel) in the image captured by \n",
    "that calibrated camera.\n",
    "\n",
    "1. Internal parameters of the camera/lens system. E.g., focal length, optical center, and radial distortion \n",
    "coefficients the center.\n",
    "\n",
    "2. External parameters: This refers to the orientation (rotation and translation) of the camera with respect to some \n",
    "world coordinate system."
   ]
  },
  {
   "cell_type": "code",
   "execution_count": 2,
   "metadata": {},
   "outputs": [],
   "source": [
    "# import necessary packages\n",
    "import matplotlib.pyplot as plt\n",
    "import cv2\n",
    "import numpy as np\n",
    "\n",
    "# 角点的个数以及棋盘格间距\n",
    "XX = 8 #标定板的中长度对应的角点的个数\n",
    "YY = 4  #标定板的中宽度对应的角点的个数\n",
    "CHECKERBOARD = (XX, YY)\n",
    "image_path = \"../data/sample_data/camera_calib/data1/1.png\"\n",
    "# Creating vector to store vectors of 3D points for each checkboard image\n",
    "objpoints = []\n",
    "# Creating vector to store vectors of 2D points for each checkerboard image\n",
    "imgpoints = []"
   ]
  }
 ],
 "metadata": {
  "kernelspec": {
   "display_name": ".venv",
   "language": "python",
   "name": "python3"
  },
  "language_info": {
   "codemirror_mode": {
    "name": "ipython",
    "version": 3
   },
   "file_extension": ".py",
   "mimetype": "text/x-python",
   "name": "python",
   "nbconvert_exporter": "python",
   "pygments_lexer": "ipython3",
   "version": "3.8.10"
  }
 },
 "nbformat": 4,
 "nbformat_minor": 2
}
